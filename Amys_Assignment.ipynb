{
 "cells": [
  {
   "cell_type": "markdown",
   "id": "2bb66e09-cbd9-4b1c-8dde-ff507917ebc7",
   "metadata": {},
   "source": [
    "# My Jupyter Notebook on IBM Watson Studio"
   ]
  },
  {
   "cell_type": "markdown",
   "id": "505a6d51-6c52-43bf-88e3-05af474bcfb4",
   "metadata": {},
   "source": [
    "<strong> Amy Franks </strong>\n",
    "<br> Translator"
   ]
  },
  {
   "cell_type": "markdown",
   "id": "9cbd9fb0-2168-45a3-924d-d2c817d8b698",
   "metadata": {},
   "source": [
    "<em> I am interested in Data Science because it encompasses a wide variety of fields and disciplines. I also love learning about the technical aspects of the process, the codes and tools that make it all happen. I'm excited to start using data and data sets to answer interesting questions </em>"
   ]
  },
  {
   "cell_type": "markdown",
   "id": "fe2cba7c-ac5e-4dad-ba63-93cd66a55e88",
   "metadata": {},
   "source": [
    "### The following is a simple mathematical function:"
   ]
  },
  {
   "cell_type": "code",
   "execution_count": 2,
   "id": "eb650a15-7020-4db5-8904-88fb30a73ec6",
   "metadata": {},
   "outputs": [
    {
     "name": "stdout",
     "output_type": "stream",
     "text": [
      "85\n"
     ]
    }
   ],
   "source": [
    "x = 29\n",
    "y = 56\n",
    "z = x + y\n",
    "print(z)"
   ]
  },
  {
   "cell_type": "markdown",
   "id": "ee184548-cf59-4a57-86d0-e5a4fb6a5174",
   "metadata": {},
   "source": [
    "--------------\n",
    "\n",
    "<ul>\n",
    "<li> Bananas\n",
    "<li> Oatmeal\n",
    "<li> Cereal\n",
    "</ul>\n",
    "\n",
    "------------------\n",
    "\n",
    "<ol>\n",
    "<li>Wake Up\n",
    "<li>Drink Coffee\n",
    "<li>Shower\n",
    "\n",
    "---------------------------------"
   ]
  },
  {
   "cell_type": "code",
   "execution_count": null,
   "id": "298af6b8-0875-4758-a508-281c407c96b6",
   "metadata": {},
   "outputs": [],
   "source": []
  }
 ],
 "metadata": {
  "kernelspec": {
   "display_name": "",
   "name": ""
  },
  "language_info": {
   "name": ""
  }
 },
 "nbformat": 4,
 "nbformat_minor": 5
}
