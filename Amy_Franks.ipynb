{
  "metadata": {
    "language_info": {
      "codemirror_mode": {
        "name": "python",
        "version": 3
      },
      "file_extension": ".py",
      "mimetype": "text/x-python",
      "name": "python",
      "nbconvert_exporter": "python",
      "pygments_lexer": "ipython3",
      "version": "3.8"
    },
    "kernelspec": {
      "name": "python",
      "display_name": "Pyolite",
      "language": "python"
    }
  },
  "nbformat_minor": 4,
  "nbformat": 4,
  "cells": [
    {
      "cell_type": "markdown",
      "source": "# My Jupyter Notebook on IBM Watson Studio",
      "metadata": {}
    },
    {
      "cell_type": "markdown",
      "source": "<b> Amy Franks </b>",
      "metadata": {}
    },
    {
      "cell_type": "markdown",
      "source": "Translator",
      "metadata": {}
    },
    {
      "cell_type": "markdown",
      "source": "<i> I am interested in data science because it encompasses so many fields and disciplines. I'm exciting to learn everything I can about how to use data and datasets to answer interesting questions </i>",
      "metadata": {}
    },
    {
      "cell_type": "markdown",
      "source": "### The following code is a simple mathematical function",
      "metadata": {}
    },
    {
      "cell_type": "code",
      "source": "y = 2\nx = 3\nz = y + x\nprint(z)",
      "metadata": {
        "trusted": true
      },
      "execution_count": 3,
      "outputs": [
        {
          "name": "stdout",
          "text": "5\n",
          "output_type": "stream"
        }
      ]
    },
    {
      "cell_type": "code",
      "source": "",
      "metadata": {},
      "execution_count": null,
      "outputs": []
    }
  ]
}